{
 "cells": [
  {
   "cell_type": "code",
   "execution_count": 1,
   "metadata": {},
   "outputs": [],
   "source": [
    "import numpy as np"
   ]
  },
  {
   "cell_type": "code",
   "execution_count": 15,
   "metadata": {},
   "outputs": [],
   "source": [
    "from tempfile import TemporaryFile\n",
    "outfile = TemporaryFile()"
   ]
  },
  {
   "cell_type": "markdown",
   "metadata": {},
   "source": [
    "save()"
   ]
  },
  {
   "cell_type": "code",
   "execution_count": 5,
   "metadata": {},
   "outputs": [
    {
     "name": "stdout",
     "output_type": "stream",
     "text": [
      "[0 1 2 3 4 5 6 7 8 9]\n"
     ]
    }
   ],
   "source": [
    "save_x = np.arange(10)\n",
    "np.save(outfile,save_x)\n",
    "outfile.seek(0)\n",
    "load_x = np.load(outfile)\n",
    "print(load_x)"
   ]
  },
  {
   "cell_type": "markdown",
   "metadata": {},
   "source": [
    "savez()未命名"
   ]
  },
  {
   "cell_type": "code",
   "execution_count": 10,
   "metadata": {},
   "outputs": [
    {
     "name": "stdout",
     "output_type": "stream",
     "text": [
      "['arr_0', 'arr_1']\n",
      "<class 'numpy.ndarray'> [0 1 2 3 4 5 6 7 8 9]\n",
      "<class 'numpy.ndarray'> [ 0.          0.84147098  0.90929743  0.14112001 -0.7568025  -0.95892427\n",
      " -0.2794155   0.6569866   0.98935825  0.41211849]\n",
      "<class 'numpy.lib.npyio.NpzFile'>\n"
     ]
    }
   ],
   "source": [
    "savez_x = np.arange(10)\n",
    "savez_y = np.sin(savez_x)\n",
    "outfile.seek(0)\n",
    "np.savez(outfile,savez_x,savez_y)\n",
    "outfile.seek(0)\n",
    "npzfile = np.load(outfile)\n",
    "print(npzfile.files)\n",
    "print(type(npzfile['arr_0']),npzfile['arr_0'])\n",
    "print(type(npzfile['arr_1']),npzfile['arr_1'])\n",
    "print(type(npzfile))"
   ]
  },
  {
   "cell_type": "markdown",
   "metadata": {},
   "source": [
    "savez()命名"
   ]
  },
  {
   "cell_type": "code",
   "execution_count": 13,
   "metadata": {},
   "outputs": [
    {
     "name": "stdout",
     "output_type": "stream",
     "text": [
      "['x', 'y']\n",
      "<class 'numpy.ndarray'> [0 1 2 3 4 5 6 7 8 9]\n",
      "<class 'numpy.ndarray'> [ 0.          0.84147098  0.90929743  0.14112001 -0.7568025  -0.95892427\n",
      " -0.2794155   0.6569866   0.98935825  0.41211849]\n"
     ]
    }
   ],
   "source": [
    "savez_x = np.arange(10)\n",
    "savez_y = np.sin(savez_x)\n",
    "outfile.seek(0)\n",
    "np.savez(outfile,x=savez_x,y=savez_y)\n",
    "outfile.seek(0)\n",
    "npzfile = np.load(outfile)\n",
    "print(npzfile.files)\n",
    "print(type(npzfile['x']),npzfile['x'])\n",
    "print(type(npzfile['y']),npzfile['y'])"
   ]
  },
  {
   "cell_type": "markdown",
   "metadata": {},
   "source": [
    "savez_compressed()"
   ]
  },
  {
   "cell_type": "code",
   "execution_count": 16,
   "metadata": {},
   "outputs": [
    {
     "name": "stdout",
     "output_type": "stream",
     "text": [
      "['x', 'y']\n",
      "[[0.13725564 0.47769285]\n",
      " [0.41229551 0.57263086]\n",
      " [0.4192586  0.6394022 ]]\n",
      "[0.03089119 0.50586187 0.82604336 0.73640738]\n"
     ]
    }
   ],
   "source": [
    "csave_x = np.random.rand(3,2)\n",
    "csave_y = np.random.rand(4)\n",
    "outfile.seek(0)\n",
    "np.savez_compressed(outfile,x=csave_x,y=csave_y)\n",
    "outfile.seek(0)\n",
    "npcfile = np.load(outfile)\n",
    "print(npcfile.files)\n",
    "print(npcfile['x'])\n",
    "print(npcfile['y'])"
   ]
  },
  {
   "cell_type": "code",
   "execution_count": 17,
   "metadata": {},
   "outputs": [],
   "source": [
    "outfile.close()"
   ]
  },
  {
   "cell_type": "code",
   "execution_count": null,
   "metadata": {},
   "outputs": [],
   "source": []
  }
 ],
 "metadata": {
  "kernelspec": {
   "display_name": "Python 3",
   "language": "python",
   "name": "python3"
  },
  "language_info": {
   "codemirror_mode": {
    "name": "ipython",
    "version": 3
   },
   "file_extension": ".py",
   "mimetype": "text/x-python",
   "name": "python",
   "nbconvert_exporter": "python",
   "pygments_lexer": "ipython3",
   "version": "3.6.5"
  }
 },
 "nbformat": 4,
 "nbformat_minor": 2
}
