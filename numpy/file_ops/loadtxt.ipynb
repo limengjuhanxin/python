{
 "cells": [
  {
   "cell_type": "code",
   "execution_count": null,
   "metadata": {},
   "outputs": [],
   "source": [
    "import numpy as np"
   ]
  },
  {
   "cell_type": "code",
   "execution_count": 25,
   "metadata": {},
   "outputs": [],
   "source": [
    "a = np.arange(12).reshape(3,4)\n",
    "np.savetxt('a.txt',a,fmt='%.2e',header='hello',footer='python')"
   ]
  },
  {
   "cell_type": "code",
   "execution_count": 23,
   "metadata": {},
   "outputs": [
    {
     "name": "stdout",
     "output_type": "stream",
     "text": [
      "# hello\r\n",
      "0.00e+00 1.00e+00 2.00e+00 3.00e+00\r\n",
      "4.00e+00 5.00e+00 6.00e+00 7.00e+00\r\n",
      "8.00e+00 9.00e+00 1.00e+01 1.10e+01\r\n",
      "# python\r\n"
     ]
    }
   ],
   "source": [
    "!cat a.txt"
   ]
  },
  {
   "cell_type": "code",
   "execution_count": 27,
   "metadata": {},
   "outputs": [
    {
     "name": "stdout",
     "output_type": "stream",
     "text": [
      "[[ 0.  1.  2.  3.]\n",
      " [ 4.  5.  6.  7.]\n",
      " [ 8.  9. 10. 11.]]\n"
     ]
    }
   ],
   "source": [
    "b=np.loadtxt('a.txt')\n",
    "print(b)"
   ]
  },
  {
   "cell_type": "code",
   "execution_count": 28,
   "metadata": {},
   "outputs": [
    {
     "name": "stdout",
     "output_type": "stream",
     "text": [
      "[[ 1.  2.]\n",
      " [ 5.  6.]\n",
      " [ 9. 10.]]\n"
     ]
    }
   ],
   "source": [
    "c = np.loadtxt('a.txt',usecols=[1,2])\n",
    "print(c)"
   ]
  },
  {
   "cell_type": "code",
   "execution_count": 30,
   "metadata": {},
   "outputs": [
    {
     "name": "stdout",
     "output_type": "stream",
     "text": [
      "[0. 4. 8.]\n",
      "[1. 5. 9.]\n",
      "[ 2.  6. 10.]\n",
      "[ 3.  7. 11.]\n"
     ]
    }
   ],
   "source": [
    "d1,d2,d3,d4=np.loadtxt('a.txt',unpack=True)\n",
    "print(d1)\n",
    "print(d2)\n",
    "print(d3)\n",
    "print(d4)"
   ]
  }
 ],
 "metadata": {
  "kernelspec": {
   "display_name": "Python 3",
   "language": "python",
   "name": "python3"
  },
  "language_info": {
   "codemirror_mode": {
    "name": "ipython",
    "version": 3
   },
   "file_extension": ".py",
   "mimetype": "text/x-python",
   "name": "python",
   "nbconvert_exporter": "python",
   "pygments_lexer": "ipython3",
   "version": "3.6.5"
  }
 },
 "nbformat": 4,
 "nbformat_minor": 2
}
