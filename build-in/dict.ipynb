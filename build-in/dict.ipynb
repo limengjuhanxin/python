{
 "cells": [
  {
   "cell_type": "code",
   "execution_count": 9,
   "metadata": {},
   "outputs": [
    {
     "name": "stdout",
     "output_type": "stream",
     "text": [
      "a: {'one': 1, 'two': 2, 'three': 3}\n",
      "b: {'one': 1, 'two': 2, 'three': 3}\n",
      "c: {'one': 1, 'two': 2, 'three': 3}\n",
      "d: {'two': 2, 'one': 1, 'three': 3}\n",
      "e: {'one': 1, 'two': 2, 'three': 3}\n"
     ]
    }
   ],
   "source": [
    "a = {'one':1 ,'two':2, 'three':3}\n",
    "b = dict(one=1,two=2,three=3)\n",
    "c = dict(zip(['one','two','three'],[1,2,3]))\n",
    "d = dict([('two',2),('one',1),('three',3)])\n",
    "e = dict({'one':1 ,'two':2, 'three':3})\n",
    "print('a:',a)\n",
    "print('b:',b)\n",
    "print('c:',c)\n",
    "print('d:',d)\n",
    "print('e:',e)"
   ]
  },
  {
   "cell_type": "code",
   "execution_count": null,
   "metadata": {},
   "outputs": [],
   "source": []
  }
 ],
 "metadata": {
  "kernelspec": {
   "display_name": "Python 3",
   "language": "python",
   "name": "python3"
  },
  "language_info": {
   "codemirror_mode": {
    "name": "ipython",
    "version": 3
   },
   "file_extension": ".py",
   "mimetype": "text/x-python",
   "name": "python",
   "nbconvert_exporter": "python",
   "pygments_lexer": "ipython3",
   "version": "3.6.5"
  }
 },
 "nbformat": 4,
 "nbformat_minor": 2
}
